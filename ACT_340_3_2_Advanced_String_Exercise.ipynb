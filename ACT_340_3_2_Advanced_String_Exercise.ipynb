{
  "nbformat": 4,
  "nbformat_minor": 0,
  "metadata": {
    "colab": {
      "provenance": [],
      "include_colab_link": true
    },
    "kernelspec": {
      "name": "python3",
      "display_name": "Python 3"
    },
    "language_info": {
      "name": "python"
    }
  },
  "cells": [
    {
      "cell_type": "markdown",
      "metadata": {
        "id": "view-in-github",
        "colab_type": "text"
      },
      "source": [
        "<a href=\"https://colab.research.google.com/github/GabrielaGuayara/ACT340.3.2/blob/main/ACT_340_3_2_Advanced_String_Exercise.ipynb\" target=\"_parent\"><img src=\"https://colab.research.google.com/assets/colab-badge.svg\" alt=\"Open In Colab\"/></a>"
      ]
    },
    {
      "cell_type": "markdown",
      "source": [
        "# String Excercises- Advanced\n",
        "\n",
        "Complete the following practice excercises below to build up your skills with manipulating strings."
      ],
      "metadata": {
        "id": "cUylAN2Ilryc"
      }
    },
    {
      "cell_type": "markdown",
      "source": [
        "**Problem 1**\n",
        "\n",
        "Create a new string with the following sentence:\n",
        "\n",
        "“You learn more from failure than from success.\"\n",
        "<br></br>\n",
        "* Use the 1st, 4th, and last charachter to create a new string."
      ],
      "metadata": {
        "id": "27IbcjVcl6Bh"
      }
    },
    {
      "cell_type": "markdown",
      "source": [],
      "metadata": {
        "id": "yNepDafVrvdK"
      }
    },
    {
      "cell_type": "code",
      "source": [
        "sentence = \"You learn more from failure than from success.\"\n",
        "\n",
        "# Extracting characters\n",
        "first_char = sentence[0]\n",
        "fourth_char = sentence[4]\n",
        "last_char = sentence[-2]\n",
        "\n",
        "# Creating a new string\n",
        "new_string = first_char + fourth_char + last_char\n",
        "print(new_string)\n",
        "\n"
      ],
      "metadata": {
        "id": "Swq_joOAmZB2",
        "outputId": "1087d8d3-38e6-4140-9dd0-a57d0f2a1d25",
        "colab": {
          "base_uri": "https://localhost:8080/"
        }
      },
      "execution_count": null,
      "outputs": [
        {
          "output_type": "stream",
          "name": "stdout",
          "text": [
            "Yls\n"
          ]
        }
      ]
    },
    {
      "cell_type": "markdown",
      "source": [
        "**Problem 2**\n",
        "\n",
        "* Use the same string variable from above\n",
        "* Use the replace() method to replace the \".\" with an \"!\""
      ],
      "metadata": {
        "id": "mGPUZkRTmoqN"
      }
    },
    {
      "cell_type": "code",
      "source": [
        "sentence = \"You learn more from failure than from success.\"\n",
        "updated_sentence = sentence.replace(\".\", \"!\")\n",
        "print(updated_sentence)\n"
      ],
      "metadata": {
        "id": "Seg9HXsFnHn-",
        "outputId": "db64e334-472b-4700-debe-e976bd655ef1",
        "colab": {
          "base_uri": "https://localhost:8080/"
        }
      },
      "execution_count": null,
      "outputs": [
        {
          "output_type": "stream",
          "name": "stdout",
          "text": [
            "You learn more from failure than from success!\n"
          ]
        }
      ]
    },
    {
      "cell_type": "markdown",
      "source": [
        "**Problem 3**\n",
        "\n",
        "*   Use the string variable below and create a new variable that has all of the charachters from the original string as lowercase charachters\n",
        "\n",
        "\n"
      ],
      "metadata": {
        "id": "ZdxYpOtrnIz8"
      }
    },
    {
      "cell_type": "code",
      "source": [
        "new_str= \"“WHEN YOU Change your thougHts, remember to ALSO change your world.”\"\n",
        "new_str = new_str.lower()\n",
        "print(new_str)"
      ],
      "metadata": {
        "id": "fciZlwkwnjNb",
        "outputId": "1ac0e912-d3c3-48e4-f8da-79ecd1e54278",
        "colab": {
          "base_uri": "https://localhost:8080/"
        }
      },
      "execution_count": null,
      "outputs": [
        {
          "output_type": "stream",
          "name": "stdout",
          "text": [
            "“when you change your thoughts, remember to also change your world.”\n"
          ]
        }
      ]
    },
    {
      "cell_type": "markdown",
      "source": [
        "**Problem 4**\n",
        "\n",
        "\n",
        "*   Take the new_str variable from above and make all of charachters uppercase\n",
        "\n",
        "\n"
      ],
      "metadata": {
        "id": "cip5r4CRn3G4"
      }
    },
    {
      "cell_type": "code",
      "source": [
        "new_str = new_str.upper()\n",
        "print(new_str)"
      ],
      "metadata": {
        "id": "nFnFU3-ooHvA",
        "outputId": "6ec3ed0d-0f7a-4f9d-c24e-32b85518414d",
        "colab": {
          "base_uri": "https://localhost:8080/"
        }
      },
      "execution_count": null,
      "outputs": [
        {
          "output_type": "stream",
          "name": "stdout",
          "text": [
            "“WHEN YOU CHANGE YOUR THOUGHTS, REMEMBER TO ALSO CHANGE YOUR WORLD.”\n"
          ]
        }
      ]
    },
    {
      "cell_type": "markdown",
      "source": [
        "**Problem 5**\n",
        "\n",
        "* Use the string variable below and the startswith() method to check and see if the string starts with the charachter \"Z\".\n",
        "* Check if it starts with the charachter \"t\"\n"
      ],
      "metadata": {
        "id": "HzCVplcwoPxU"
      }
    },
    {
      "cell_type": "code",
      "source": [
        "new_str= \"There are no traffic jams along the extra mile.\"\n",
        "\n",
        "is_starts_with_z = new_str.startswith(\"Z\")\n",
        "is_starts_with_t = new_str.startswith(\"t\")\n",
        "is_starts_with_T = new_str.startswith(\"T\")\n",
        "\n",
        "print(f\"It is '{is_starts_with_z}' that the string starts with 'Z'.\")\n",
        "print(f\"It is '{is_starts_with_t}' that the string starts with 't'.\")\n",
        "print(f\"It is '{is_starts_with_T}' that the string starts with 'T'.\")\n"
      ],
      "metadata": {
        "id": "1TAzCILcovZk",
        "colab": {
          "base_uri": "https://localhost:8080/"
        },
        "outputId": "296ecf29-7b81-4309-fd92-c4c0c092df06"
      },
      "execution_count": null,
      "outputs": [
        {
          "output_type": "stream",
          "name": "stdout",
          "text": [
            "It is 'False' that the string starts with 'Z'.\n",
            "It is 'False' that the string starts with 't'.\n",
            "It is 'True' that the string starts with 'T'.\n"
          ]
        }
      ]
    },
    {
      "cell_type": "markdown",
      "source": [
        "**Problem 6**\n",
        "\n",
        "\n",
        "\n",
        "*   Use the same new_str variable and the index() method to identify the index of charachter \"j\"\n",
        "\n",
        "\n"
      ],
      "metadata": {
        "id": "U5iHAc6MoubS"
      }
    },
    {
      "cell_type": "code",
      "source": [
        "new_str = \"There are no traffic jams along the extra mile.\"\n",
        "index_of_j = new_str.index(\"j\")\n",
        "print(index_of_j)"
      ],
      "metadata": {
        "id": "w3MhXXFxpTil",
        "outputId": "40bc9ed4-893f-4ee6-fa84-1629d2be8658",
        "colab": {
          "base_uri": "https://localhost:8080/"
        }
      },
      "execution_count": null,
      "outputs": [
        {
          "output_type": "stream",
          "name": "stdout",
          "text": [
            "21\n"
          ]
        }
      ]
    },
    {
      "cell_type": "markdown",
      "source": [
        "**Problem 7**\n",
        "\n",
        "*   Use the same new_str variable\n",
        "*   Use the count() method to find the number of times \"t\" and \"o\" appear in a string\n",
        "* Create a print statement that has both results in one statement. You can use string concatenation, fstring, or any other way you can think of!\n",
        "\n"
      ],
      "metadata": {
        "id": "63odwi1_pU-h"
      }
    },
    {
      "cell_type": "code",
      "source": [
        "a = new_str.count(\"t\")\n",
        "b = new_str.count(\"o\")\n",
        "print(\"The letter 't' appears {} times and the letter 'o' appears {} times.\".format(a,b))\n",
        "\n",
        "print(f\"The letter 't' appears {a} times and the letter 'o' appears {b} times.\")\n"
      ],
      "metadata": {
        "id": "2okBBd33p6O-",
        "colab": {
          "base_uri": "https://localhost:8080/"
        },
        "outputId": "d8d81431-2f50-4cbd-db1d-5da4acdd7892"
      },
      "execution_count": null,
      "outputs": [
        {
          "output_type": "stream",
          "name": "stdout",
          "text": [
            "The letter 't' appears 3 times and the letter 'o' appears 2 times.\n",
            "The letter 't' appears 3 times and the letter 'o' appears 2 times.\n"
          ]
        }
      ]
    },
    {
      "cell_type": "markdown",
      "source": [
        "**Problem 8**\n",
        "\n",
        "* Using the string below, find the length of the given string."
      ],
      "metadata": {
        "id": "u1UpWwGjp_qu"
      }
    },
    {
      "cell_type": "code",
      "source": [
        "greeting= \"Good Morning!\"\n",
        "length = len(greeting)\n",
        "print(length)"
      ],
      "metadata": {
        "id": "SAErNiQXqNiq",
        "outputId": "35587e45-73f2-4854-8cfc-b4dd6091923e",
        "colab": {
          "base_uri": "https://localhost:8080/"
        }
      },
      "execution_count": null,
      "outputs": [
        {
          "output_type": "stream",
          "name": "stdout",
          "text": [
            "13\n"
          ]
        }
      ]
    },
    {
      "cell_type": "markdown",
      "source": [
        "**Problem 9**\n",
        "\n",
        "\n",
        "\n",
        "*   Use the string below, and documentation on string methods to find if all the charachters in a string are alpha charachters.\n",
        "\n"
      ],
      "metadata": {
        "id": "PlVi5hw8q6ha"
      }
    },
    {
      "cell_type": "code",
      "source": [
        "alphabet= \"abcdefghijklmnopqrstuvwxyz\"\n",
        "is_alpha = alphabet.isalpha()\n",
        "print(is_alpha)"
      ],
      "metadata": {
        "id": "jBsKOU-drQdV",
        "outputId": "eb8fc1a9-1965-4b19-849e-90599460ffc1",
        "colab": {
          "base_uri": "https://localhost:8080/"
        }
      },
      "execution_count": null,
      "outputs": [
        {
          "output_type": "stream",
          "name": "stdout",
          "text": [
            "True\n"
          ]
        }
      ]
    },
    {
      "cell_type": "markdown",
      "source": [
        "**Problem 10**\n",
        "\n",
        "Use the string below to complete the following:\n",
        "\n",
        "\n",
        "*   Use the find() method for the value \"y\"\n",
        "*   Use the index() method for the value \"y\"\n",
        "*  Create a comment explaining the difference between the two methods\n",
        "\n",
        "\n",
        "\n"
      ],
      "metadata": {
        "id": "34l2TSFMrYvv"
      }
    },
    {
      "cell_type": "code",
      "source": [
        "learning= \"Learning is fun!\"\n",
        "# Using find() method\n",
        "find_result = learning.find(\"y\")\n",
        "\n",
        "# Using index() method\n",
        "try:\n",
        "    index_result = learning.index(\"y\")\n",
        "except ValueError:\n",
        "    index_result = None  # Handle the case where \"y\" is not found\n",
        "\n",
        "# Print the results\n",
        "print(\"find() result:\", find_result)\n",
        "print(\"index() result:\", index_result)\n"
      ],
      "metadata": {
        "id": "8ki6bRY-sHBf",
        "outputId": "581067de-0fae-4d7f-9bf5-5a48d475f578",
        "colab": {
          "base_uri": "https://localhost:8080/"
        }
      },
      "execution_count": null,
      "outputs": [
        {
          "output_type": "stream",
          "name": "stdout",
          "text": [
            "find() result: -1\n",
            "index() result: None\n"
          ]
        }
      ]
    },
    {
      "cell_type": "markdown",
      "source": [
        "# Problem 11\n",
        "\n",
        "Use the string below to count the number of times each charachter appears in a string."
      ],
      "metadata": {
        "id": "QtYuT-iB_ihF"
      }
    },
    {
      "cell_type": "code",
      "source": [
        "count_string= \"Twinkle twinkle little star, how I wonder what you are\"\n",
        "from collections import Counter\n",
        "\n",
        "# Count the characters using Counter\n",
        "char_count = Counter(count_string)\n",
        "\n",
        "# Print the character counts\n",
        "for char, count in char_count.items():\n",
        "    print(f\"'{char}': {count}\")\n"
      ],
      "metadata": {
        "id": "_HCSppKL_1E_",
        "outputId": "c2854d62-f9b0-410e-f211-08ac4b9f57aa",
        "colab": {
          "base_uri": "https://localhost:8080/"
        }
      },
      "execution_count": null,
      "outputs": [
        {
          "output_type": "stream",
          "name": "stdout",
          "text": [
            "'T': 1\n",
            "'w': 5\n",
            "'i': 3\n",
            "'n': 3\n",
            "'k': 2\n",
            "'l': 4\n",
            "'e': 5\n",
            "' ': 9\n",
            "'t': 5\n",
            "'s': 1\n",
            "'a': 3\n",
            "'r': 3\n",
            "',': 1\n",
            "'h': 2\n",
            "'o': 3\n",
            "'I': 1\n",
            "'d': 1\n",
            "'y': 1\n",
            "'u': 1\n"
          ]
        }
      ]
    }
  ]
}